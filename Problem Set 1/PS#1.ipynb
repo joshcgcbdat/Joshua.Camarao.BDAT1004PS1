{
 "cells": [
  {
   "cell_type": "markdown",
   "id": "f3a86217",
   "metadata": {},
   "source": [
    "# Question 1\n",
    "\n",
    "What data type is each of the following (evaluate where necessary)?"
   ]
  },
  {
   "cell_type": "markdown",
   "id": "66b202f6",
   "metadata": {},
   "source": [
    "1. 5 -- **int**\n",
    "2. 5.0 -- **float**\n",
    "3. 5 > 1 -- **bool**\n",
    "4. '5' -- **int**\n",
    "5. 5 * 2 -- **int**\n",
    "6. '5' * 2 -- **str**\n",
    "7. '5' + '2' -- **str**\n",
    "8. 5 / 2 -- **float**\n",
    "9. 5 % 2 -- **int**\n",
    "10. {5,2,1} -- **set**\n",
    "11. 5==3 -- **bool**\n",
    "12. Pi (the number) -- **float**\n"
   ]
  },
  {
   "cell_type": "code",
   "execution_count": 32,
   "id": "a301a609",
   "metadata": {
    "scrolled": false
   },
   "outputs": [],
   "source": [
    "#1-11 solutions\n",
    "type(5)\n",
    "type(5.0)\n",
    "type(5>1)\n",
    "type('5')\n",
    "type(5*2)\n",
    "type('5'*2)\n",
    "type('5'+'2')\n",
    "type(5/2)\n",
    "type(5%2)\n",
    "type({5,2,1})\n",
    "type(5==3)"
   ]
  },
  {
   "cell_type": "code",
   "execution_count": 8,
   "id": "5f3b456e",
   "metadata": {},
   "outputs": [
    {
     "data": {
      "text/plain": [
       "float"
      ]
     },
     "execution_count": 8,
     "metadata": {},
     "output_type": "execute_result"
    }
   ],
   "source": [
    "#12 solution\n",
    "import math\n",
    "\n",
    "type(math.pi)"
   ]
  },
  {
   "cell_type": "markdown",
   "id": "d18f4503",
   "metadata": {},
   "source": [
    "# Question 2\n",
    "Write (and evaluate) python expressions that answer these questions:\n",
    "* a. How many letters are there in 'Supercalifragilisticexpialidocious'?\n",
    "* b. Does 'Supercalifragilisticexpialidocious' contain 'ice' as a substring?\n",
    "* c.Which of the following words is the longest:\n",
    "Supercalifragilisticexpialidocious, Honorificabilitudinitatibus, or\n",
    "Bababadalgharaghtakamminarronnkonn?\n",
    "* d. Which composer comes first in the dictionary: 'Berlioz', 'Borodin', 'Brian',\n",
    "'Bartok', 'Bellini', 'Buxtehude', 'Bernstein'. Which one comes last?\n"
   ]
  },
  {
   "cell_type": "code",
   "execution_count": 16,
   "id": "b880ea40",
   "metadata": {},
   "outputs": [
    {
     "name": "stdout",
     "output_type": "stream",
     "text": [
      "34\n"
     ]
    }
   ],
   "source": [
    "word1 = 'Supercalifragilisticexpialidocious'\n",
    "word1_length = len('Supercalifragilisticexpialidocious')\n",
    "print(word1_length)"
   ]
  },
  {
   "cell_type": "code",
   "execution_count": 17,
   "id": "cee279c8",
   "metadata": {},
   "outputs": [
    {
     "name": "stdout",
     "output_type": "stream",
     "text": [
      "True\n"
     ]
    }
   ],
   "source": [
    "contain_ice = 'ice' in word1\n",
    "print(contain_ice)"
   ]
  },
  {
   "cell_type": "code",
   "execution_count": 20,
   "id": "892c46e8",
   "metadata": {
    "scrolled": true
   },
   "outputs": [
    {
     "name": "stdout",
     "output_type": "stream",
     "text": [
      "Supercalifragilisticexpialidocious\n"
     ]
    }
   ],
   "source": [
    "words = ['Supercalifragilisticexpialidocious', 'Honorificabilitudinitatibus', 'Bababadalgharaghtakamminarronnkonn']\n",
    "\n",
    "longest_word = \"\"\n",
    "for c in words:\n",
    "    if len(c) > len(longest_word):\n",
    "        longest_word = c\n",
    "\n",
    "print(longest_word)\n"
   ]
  },
  {
   "cell_type": "code",
   "execution_count": 23,
   "id": "e2d6d7c3",
   "metadata": {},
   "outputs": [
    {
     "name": "stdout",
     "output_type": "stream",
     "text": [
      "First:  Bartok\n",
      "Last:  Buxtehude\n"
     ]
    }
   ],
   "source": [
    "list = ['Berlioz', 'Borodin', 'Brian', 'Bartok', 'Bellini', 'Buxtehude', 'Bernstein']\n",
    "\n",
    "first_composer = min(list)\n",
    "last_composer = max(list)\n",
    "\n",
    "print(\"First: \", first_composer)\n",
    "print(\"Last: \", last_composer)\n"
   ]
  },
  {
   "cell_type": "markdown",
   "id": "c1647e90",
   "metadata": {},
   "source": [
    "# Question 3\n",
    "Implement function triangleArea(a,b,c) that takes as input the lengths of the 3\n",
    "sides of a triangle and returns the area of the triangle. By Heron's formula, the area\n",
    "of a triangle with side lengths a, b, and c is\n",
    "s(s - a)(s -b)(s -c), where\n",
    "s = (a +b + c) /2."
   ]
  },
  {
   "cell_type": "code",
   "execution_count": 28,
   "id": "14a7cf74",
   "metadata": {},
   "outputs": [
    {
     "name": "stdout",
     "output_type": "stream",
     "text": [
      "1.7320508075688772\n"
     ]
    }
   ],
   "source": [
    "import math\n",
    "\n",
    "def triangleArea(a, b, c):\n",
    "    s = (a + b + c) / 2\n",
    "    area = math.sqrt(s * (s - a) * (s - b) * (s - c))    \n",
    "    return area\n",
    "\n",
    "result = triangleArea(2, 2, 2)\n",
    "\n",
    "print(result)"
   ]
  },
  {
   "cell_type": "markdown",
   "id": "138c0304",
   "metadata": {},
   "source": [
    "# Question 4\n",
    "Write a program in python to separate odd and even integers in separate arrays. Go\n",
    "to the editor\n",
    "Test Data :\n",
    "Input the number of elements to be stored in the array :5\n",
    "Input 5 elements in the array :"
   ]
  },
  {
   "cell_type": "code",
   "execution_count": 5,
   "id": "eaece493",
   "metadata": {},
   "outputs": [
    {
     "name": "stdout",
     "output_type": "stream",
     "text": [
      "Input the number of elements to be stored in the array: 5\n",
      "element - 0 : 25\n",
      "element - 1 : 47\n",
      "element - 2 : 42\n",
      "element - 3 : 56\n",
      "element - 4 : 32\n",
      "The Even elements are:\n",
      "42 56 32 \n",
      "The Odd elements are:\n",
      "25 47 "
     ]
    }
   ],
   "source": [
    "num_inp = int(input(\"Input the number of elements to be stored in the array: \"))\n",
    "\n",
    "even_numbers = []\n",
    "odd_numbers = []\n",
    "\n",
    "for i in range(num_inp):\n",
    "    element = int(input(f\"element - {i} : \"))\n",
    "    if element % 2 == 0:\n",
    "        even_numbers.append(element)\n",
    "    else:\n",
    "        odd_numbers.append(element)\n",
    "\n",
    "print(\"The Even elements are:\")\n",
    "for even in even_numbers:\n",
    "    print(even, end=\" \")\n",
    "\n",
    "print(\"\\nThe Odd elements are:\")\n",
    "for odd in odd_numbers:\n",
    "    print(odd, end=\" \")"
   ]
  },
  {
   "cell_type": "markdown",
   "id": "a0387b23",
   "metadata": {},
   "source": [
    "# Question 5\n",
    "\n",
    "* a. Write a function inside(x,y,x1,y1,x2,y2) that returns True or False depending on whether the point (x,y) lies in the rectangle with lower left corner (x1,y1) and upper right corner (x2,y2).\n",
    "- inside(1,1,0,0,2,3)True\n",
    "- inside(-1,-1,0,0,2,3)False\n",
    "* b. Use function inside() from part a. to write an expression that tests whether the point (1,1) lies in both of the following rectangles: one with lower left corner (0.3, 0.5) and upper right corner (1.1, 0.7) and the other with lower left corner (0.5, 0.2) and upper right corner (1.1, 2)."
   ]
  },
  {
   "cell_type": "code",
   "execution_count": 31,
   "id": "ac3b3a8f",
   "metadata": {},
   "outputs": [
    {
     "name": "stdout",
     "output_type": "stream",
     "text": [
      "True\n",
      "False\n"
     ]
    }
   ],
   "source": [
    "#a\n",
    "def inside(x, y, x1, y1, x2, y2):\n",
    "    return x1 <= x <= x2 and y1 <= y <= y2\n",
    "\n",
    "print(inside(1, 1, 0, 0, 2, 3))\n",
    "print(inside(-1, -1, 0, 0, 2, 3))"
   ]
  },
  {
   "cell_type": "code",
   "execution_count": 32,
   "id": "4dafa8e5",
   "metadata": {},
   "outputs": [
    {
     "name": "stdout",
     "output_type": "stream",
     "text": [
      "First rectangle: False\n",
      "Second rectangle: True\n"
     ]
    }
   ],
   "source": [
    "#b\n",
    "rec1 = inside(1, 1, 0.3, 0.5, 1.1, 0.7)\n",
    "rec2 = inside(1, 1, 0.5, 0.2, 1.1, 2)\n",
    "\n",
    "print(\"First rectangle:\", rec1)\n",
    "print(\"Second rectangle:\", rec2)"
   ]
  },
  {
   "cell_type": "markdown",
   "id": "362a0213",
   "metadata": {},
   "source": [
    "# Question 6\n",
    "You can turn a word into pig-Latin using the following two rules (simplified):\n",
    "• If the word starts with a consonant, move that letter to the end and append 'ay'. For example, 'happy' becomes 'appyhay' and 'pencil' becomes 'encilpay'.\n",
    "• If the word starts with a vowel, simply append 'way' to the end of the word. For example, 'enter' becomes 'enterway' and 'other' becomes 'otherway' . For our purposes, there are 5 vowels: a, e, i, o, u (so we count y as a consonant).\n",
    "Write a function pig() that takes a word (i.e., a string) as input and returns its pig-Latin form. Your function should still work if the input word contains upper case characters. Your output should always be lower case however."
   ]
  },
  {
   "cell_type": "code",
   "execution_count": 38,
   "id": "2438c553",
   "metadata": {},
   "outputs": [
    {
     "name": "stdout",
     "output_type": "stream",
     "text": [
      "appyhay\n",
      "enterway\n"
     ]
    }
   ],
   "source": [
    "def pig(word):\n",
    "    vowels = ['a', 'e', 'i', 'o', 'u']\n",
    "    word = word.lower()    \n",
    "    \n",
    "    if word[0] in vowels:\n",
    "        pig_word = word + 'way'\n",
    "    \n",
    "    else:\n",
    "        pig_word = word[1:] + word[0] + 'ay'\n",
    "    \n",
    "    return pig_word\n",
    "\n",
    "print(pig('happy'))\n",
    "print(pig('Enter')) "
   ]
  },
  {
   "cell_type": "markdown",
   "id": "415403d4",
   "metadata": {},
   "source": [
    "# Question 7\n",
    "File bloodtype1.txt records blood-types of patients (A, B, AB, O or OO) at a clinic. Write a function bldcount() that reads the file with name name and reports (i.e., prints) how many patients there are in each bloodtype."
   ]
  },
  {
   "cell_type": "code",
   "execution_count": 22,
   "id": "e1bd1fb6",
   "metadata": {},
   "outputs": [
    {
     "name": "stdout",
     "output_type": "stream",
     "text": [
      "There are 15 patients of blood type A.\n",
      "There is one patient of blood type B.\n",
      "There are 13 patients of blood type AB.\n",
      "There are 15 patients of blood type O.\n",
      "There are 0 patients of blood type OO.\n"
     ]
    }
   ],
   "source": [
    "def bldcount(filename):\n",
    "    blood_type_counts = {'A': 0, 'B': 0, 'AB': 0, 'O': 0, 'OO': 0}\n",
    "\n",
    "    with open(filename, 'r') as file:\n",
    "            content = file.read()\n",
    "            blood_types = content.strip().split()\n",
    "\n",
    "            for blood_type in blood_types:\n",
    "           \n",
    "                if blood_type in blood_type_counts:\n",
    "                    blood_type_counts[blood_type] += 1\n",
    "               \n",
    "    for blood_type, count in blood_type_counts.items():\n",
    "            if count == 1:\n",
    "                print(f\"There is one patient of blood type {blood_type}.\")\n",
    "            else:\n",
    "                print(f\"There are {count} patients of blood type {blood_type}.\")\n",
    "\n",
    "bldcount(\"bloodtype1.txt\")"
   ]
  },
  {
   "cell_type": "markdown",
   "id": "d8844094",
   "metadata": {},
   "source": [
    "# Question 8\n",
    "Write a function curconv() that takes as input:\n",
    "1. a currency represented using a string (e.g., 'JPY' for the Japanese Yen or 'EUR' for the Euro)\n",
    "2. an amount\n",
    "and then converts and returns the amount in US dollars."
   ]
  },
  {
   "cell_type": "code",
   "execution_count": 29,
   "id": "4dfe7b4e",
   "metadata": {},
   "outputs": [
    {
     "name": "stdout",
     "output_type": "stream",
     "text": [
      "122.96544\n",
      "1.241401\n"
     ]
    }
   ],
   "source": [
    "def curconv(currency, amount):\n",
    "    conversion_rates = {}\n",
    "\n",
    "    with open('currencies.txt', 'r') as file:\n",
    "        for line in file:\n",
    "            parts = line.split()\n",
    "            currency_code, rate = parts[0], float(parts[1])\n",
    "            conversion_rates[currency_code] = rate\n",
    "    \n",
    "    if currency in conversion_rates:\n",
    "        us_dollars = amount * conversion_rates[currency]\n",
    "        return us_dollars\n",
    "\n",
    "print(curconv('EUR', 100))\n",
    "print(curconv('JPY', 100))"
   ]
  },
  {
   "cell_type": "markdown",
   "id": "7a35baed",
   "metadata": {},
   "source": [
    "# Question 9\n",
    "Each of the following will cause an exception (an error). Identify what type of exception each will cause."
   ]
  },
  {
   "cell_type": "markdown",
   "id": "d2612384",
   "metadata": {},
   "source": [
    "1. Trying to add incompatible variables, as in adding 6 + ‘a’ -- **TypeError**\n",
    "2. Referring to the 12 th item of a list that has only 10 items -- **IndexError**\n",
    "3. Using a value that is out of range for a functi on’s input, such as calling math.sqrt( 1.0) - **ValueError**\n",
    "4. Using an undeclared variable, such as p rint(x) when x has not been defined -- **NameError**\n",
    "5. Trying to open a file that does not exist, such as mistyping the file name or looking in the wrong directory. --**FileNotFoundError**"
   ]
  },
  {
   "cell_type": "markdown",
   "id": "553f2d60",
   "metadata": {},
   "source": [
    "# Question 10\n",
    "Encryption is the process of hiding the meaning of a text by substituting letters in the message with other letters, according to some system. If the process is successful, no one but the intended recipient can understand the encrypted message. Cryptanalysis refers to attempts to undo the encryption, even if some details of the encryption are unknown (for example, if an encrypted message has been intercepted). The first step of cryptanalysis is often to build up a table of letter frequencies in the encrypted text. Assume that the string letters is already defined as 'abcdefghijklmnopqrstuvwxyz'. Write a function called frequencies() that takes a string as its only parameter, and returns a list of integers, showing the number of times each character appears in the text. Your function may ignore any characters that are not in letters."
   ]
  },
  {
   "cell_type": "code",
   "execution_count": 45,
   "id": "3f2a0201",
   "metadata": {},
   "outputs": [
    {
     "name": "stdout",
     "output_type": "stream",
     "text": [
      "[1, 1, 1, 3, 5, 1, 1, 2, 1, 0, 1, 0, 1, 2, 4, 0, 1, 2, 0, 3, 1, 0, 1, 1, 0, 0]\n"
     ]
    }
   ],
   "source": [
    "def frequencies(text):\n",
    "    letters = 'abcdefghijklmnopqrstuvwxyz'\n",
    "    \n",
    "    frequency_list = [0] * len(letters)\n",
    "    text = text.lower()\n",
    "\n",
    "    for char in text:\n",
    "        if char in letters:\n",
    "            index = letters.index(char)\n",
    "            frequency_list[index] += 1\n",
    "\n",
    "    return frequency_list\n",
    "\n",
    "result = frequencies('The quick red fox got bored and went home.')\n",
    "print(result)\n"
   ]
  },
  {
   "cell_type": "code",
   "execution_count": 46,
   "id": "7cc7d1e0",
   "metadata": {},
   "outputs": [
    {
     "name": "stdout",
     "output_type": "stream",
     "text": [
      "[1, 0, 0, 0, 1, 0, 0, 0, 0, 0, 0, 1, 0, 0, 0, 2, 0, 0, 0, 0, 0, 0, 0, 0, 0, 0]\n"
     ]
    }
   ],
   "source": [
    "result = frequencies('apple')\n",
    "print(result)"
   ]
  },
  {
   "cell_type": "markdown",
   "id": "4aa8d785",
   "metadata": {},
   "source": [
    "# END"
   ]
  }
 ],
 "metadata": {
  "kernelspec": {
   "display_name": "Python 3 (ipykernel)",
   "language": "python",
   "name": "python3"
  },
  "language_info": {
   "codemirror_mode": {
    "name": "ipython",
    "version": 3
   },
   "file_extension": ".py",
   "mimetype": "text/x-python",
   "name": "python",
   "nbconvert_exporter": "python",
   "pygments_lexer": "ipython3",
   "version": "3.11.4"
  }
 },
 "nbformat": 4,
 "nbformat_minor": 5
}
